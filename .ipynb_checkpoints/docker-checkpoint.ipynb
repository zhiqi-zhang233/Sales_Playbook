{
 "cells": [
  {
   "cell_type": "code",
   "execution_count": 2,
   "id": "1737da2e-696c-4f70-ac28-5b6f4a5fcc95",
   "metadata": {},
   "outputs": [
    {
     "name": "stdout",
     "output_type": "stream",
     "text": [
      "D:\\jupyter_notebook\\ML\\Project\\Sales_Playbook\\streamlit_app\n"
     ]
    }
   ],
   "source": [
    "cd D:\\jupyter_notebook\\ML\\Project\\Sales_Playbook\\streamlit_app"
   ]
  },
  {
   "cell_type": "code",
   "execution_count": 5,
   "id": "a78e8533-44e3-462f-97e5-4552730a516b",
   "metadata": {},
   "outputs": [
    {
     "name": "stdout",
     "output_type": "stream",
     "text": [
      "Overwriting Dockerfile\n"
     ]
    }
   ],
   "source": [
    "%%writefile Dockerfile\n",
    "FROM python:3.9\n",
    "WORKDIR /app\n",
    "COPY requirements.txt .\n",
    "RUN pip install -r requirements.txt\n",
    "COPY . .\n",
    "EXPOSE 8501\n",
    "CMD [\"streamlit\", \"run\", \"app.py\", \"--server.port=8501\", \"--server.address=0.0.0.0\"]"
   ]
  },
  {
   "cell_type": "code",
   "execution_count": 8,
   "id": "3a6ddb6d-cf73-4f6b-abde-d5a036acdb34",
   "metadata": {},
   "outputs": [
    {
     "name": "stderr",
     "output_type": "stream",
     "text": [
      "#0 building with \"desktop-linux\" instance using docker driver\n",
      "\n",
      "#1 [internal] load build definition from Dockerfile\n",
      "#1 transferring dockerfile: 241B done\n",
      "#1 DONE 0.0s\n",
      "\n",
      "#2 [internal] load metadata for docker.io/library/python:3.9\n",
      "#2 DONE 0.6s\n",
      "\n",
      "#3 [internal] load .dockerignore\n",
      "#3 transferring context: 2B 0.0s done\n",
      "#3 DONE 0.0s\n",
      "\n",
      "#4 [1/5] FROM docker.io/library/python:3.9@sha256:a847112640804ed2d03bb774d46bb1619bd37862fb2b7e48eebe425a168c153b\n",
      "#4 resolve docker.io/library/python:3.9@sha256:a847112640804ed2d03bb774d46bb1619bd37862fb2b7e48eebe425a168c153b 0.0s done\n",
      "#4 DONE 0.0s\n",
      "\n",
      "#5 [internal] load build context\n",
      "#5 transferring context: 34.76MB 1.4s done\n",
      "#5 DONE 1.4s\n",
      "\n",
      "#6 [2/5] WORKDIR /app\n",
      "#6 CACHED\n",
      "\n",
      "#7 [3/5] COPY requirements.txt .\n",
      "#7 CACHED\n",
      "\n",
      "#8 [4/5] RUN pip install -r requirements.txt\n",
      "#8 CACHED\n",
      "\n",
      "#9 [5/5] COPY . .\n",
      "#9 DONE 0.1s\n",
      "\n",
      "#10 exporting to image\n",
      "#10 exporting layers\n",
      "#10 exporting layers 0.6s done\n",
      "#10 exporting manifest sha256:6cdbd40020da8995f53b2c98d9ce1888fac075872a7b73d25a5366f0f3bda4a6 0.0s done\n",
      "#10 exporting config sha256:a877eb2ac38a7af69fe7158e601d16dd753b89c148e3afa5da6317f7d7e7e13d 0.0s done\n",
      "#10 exporting attestation manifest sha256:dd007984340c822e8494188bd8733bebb2df845f639f85c0c721185e752ecbe9 0.1s done\n",
      "#10 exporting manifest list sha256:6ae160c1423a16e99d529e1c7cab61ef2fc3e46e976ee8df12557ed2f08a6510\n",
      "#10 exporting manifest list sha256:6ae160c1423a16e99d529e1c7cab61ef2fc3e46e976ee8df12557ed2f08a6510 0.0s done\n",
      "#10 naming to docker.io/library/my-streamlit-app:latest done\n",
      "#10 unpacking to docker.io/library/my-streamlit-app:latest 0.1s done\n",
      "#10 DONE 0.9s\n"
     ]
    }
   ],
   "source": [
    "! docker build -t my-streamlit-app ."
   ]
  },
  {
   "cell_type": "code",
   "execution_count": 9,
   "id": "026a5cb3-eaeb-4ad7-a1cf-fd3d0c5d93e0",
   "metadata": {},
   "outputs": [
    {
     "name": "stdout",
     "output_type": "stream",
     "text": [
      "CONTAINER ID   IMAGE          COMMAND                   CREATED         STATUS         PORTS                    NAMES\n",
      "7ecb32e17e8a   9ed7f3e87337   \"streamlit run app.p鈥�\"   2 minutes ago   Up 2 minutes   0.0.0.0:8501->8501/tcp   nostalgic_heisenberg\n"
     ]
    }
   ],
   "source": [
    "! docker ps"
   ]
  },
  {
   "cell_type": "code",
   "execution_count": 11,
   "id": "fd6e96f4-2a89-42cf-b8e7-53a7ba889487",
   "metadata": {},
   "outputs": [
    {
     "name": "stdout",
     "output_type": "stream",
     "text": [
      "7ecb32e17e8a\n"
     ]
    }
   ],
   "source": [
    "! docker stop 7ecb32e17e8a"
   ]
  },
  {
   "cell_type": "code",
   "execution_count": null,
   "id": "cc0c9a8b-d3d1-48e2-9a57-c3471bb9eba4",
   "metadata": {},
   "outputs": [],
   "source": [
    "! docker run -p 8501:8501 my-streamlit-app"
   ]
  },
  {
   "cell_type": "code",
   "execution_count": null,
   "id": "0f00d4ad-8fcf-458f-829a-9028fa45befa",
   "metadata": {},
   "outputs": [],
   "source": []
  }
 ],
 "metadata": {
  "kernelspec": {
   "display_name": "Python 3 (ipykernel)",
   "language": "python",
   "name": "python3"
  },
  "language_info": {
   "codemirror_mode": {
    "name": "ipython",
    "version": 3
   },
   "file_extension": ".py",
   "mimetype": "text/x-python",
   "name": "python",
   "nbconvert_exporter": "python",
   "pygments_lexer": "ipython3",
   "version": "3.9.20"
  }
 },
 "nbformat": 4,
 "nbformat_minor": 5
}
